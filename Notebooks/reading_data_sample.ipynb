{
 "cells": [
  {
   "cell_type": "code",
   "execution_count": 2,
   "id": "85cfd3fc",
   "metadata": {},
   "outputs": [
    {
     "name": "stdout",
     "output_type": "stream",
     "text": [
      "   id Airline  Flight AirportFrom AirportTo  DayOfWeek  Time  Length  Delay  \\\n",
      "0   1      CO     269         SFO       IAH          3    15     205      1   \n",
      "1   2      US    1558         PHX       CLT          3    15     222      1   \n",
      "2   3      AA    2400         LAX       DFW          3    20     165      1   \n",
      "3   4      AA    2466         SFO       DFW          3    20     195      1   \n",
      "4   5      AS     108         ANC       SEA          3    30     202      0   \n",
      "\n",
      "  filght_time  \n",
      "0        0:15  \n",
      "1        0:15  \n",
      "2        0:20  \n",
      "3        0:20  \n",
      "4        0:30  \n",
      "Sample data saved locally to /Users/rajusubba/airline-delay-project/dataset/local_airlines_sample.csv\n"
     ]
    }
   ],
   "source": [
    "import pandas as pd\n",
    "\n",
    "# Define the S3 path to your CSV data.\n",
    "# Modify this to match your actual S3 bucket name and file path.\n",
    "s3_path = 's3://mlprojects-raju/airlinesdelay/Airlines.csv'\n",
    "\n",
    "# Read a small portion of data from S3 using pandas.\n",
    "# For example, nrows=1000 reads the first 1000 rows.\n",
    "df = pd.read_csv(s3_path, nrows=1000)\n",
    "\n",
    "# Optionally, print the first few rows to verify the content.\n",
    "print(df.head())\n",
    "\n",
    "# Write the DataFrame (the small sample) to a local CSV file.\n",
    "# The output file will be created in the directory where you run this script.\n",
    "local_file = '/Users/rajusubba/airline-delay-project/dataset/local_airlines_sample.csv'\n",
    "df.to_csv(local_file, index=False)\n",
    "\n",
    "print(f\"Sample data saved locally to {local_file}\")"
   ]
  }
 ],
 "metadata": {
  "kernelspec": {
   "display_name": "venv",
   "language": "python",
   "name": "python3"
  },
  "language_info": {
   "codemirror_mode": {
    "name": "ipython",
    "version": 3
   },
   "file_extension": ".py",
   "mimetype": "text/x-python",
   "name": "python",
   "nbconvert_exporter": "python",
   "pygments_lexer": "ipython3",
   "version": "3.11.7"
  }
 },
 "nbformat": 4,
 "nbformat_minor": 5
}
